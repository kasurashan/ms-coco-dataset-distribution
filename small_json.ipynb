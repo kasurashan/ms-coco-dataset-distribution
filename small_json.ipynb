{
  "nbformat": 4,
  "nbformat_minor": 0,
  "metadata": {
    "colab": {
      "provenance": [],
      "mount_file_id": "1e7r1vj0lOTjlVcEAqR3zDTLwAgt6-gRP",
      "authorship_tag": "ABX9TyMV1ixb40VioUoBBYE6MHvO",
      "include_colab_link": true
    },
    "kernelspec": {
      "name": "python3",
      "display_name": "Python 3"
    },
    "language_info": {
      "name": "python"
    }
  },
  "cells": [
    {
      "cell_type": "markdown",
      "metadata": {
        "id": "view-in-github",
        "colab_type": "text"
      },
      "source": [
        "<a href=\"https://colab.research.google.com/github/kasurashan/ms-coco-dataset-distribution/blob/main/small_json.ipynb\" target=\"_parent\"><img src=\"https://colab.research.google.com/assets/colab-badge.svg\" alt=\"Open In Colab\"/></a>"
      ]
    },
    {
      "cell_type": "code",
      "execution_count": null,
      "metadata": {
        "id": "msU44plnyfmc"
      },
      "outputs": [],
      "source": [
        "import json\n",
        "import copy"
      ]
    },
    {
      "cell_type": "code",
      "source": [
        "with open('/content/drive/MyDrive/dataset/instances_minitrain2017.json', 'r') as f:\n",
        "\n",
        "    json_data2 = json.load(f)\n",
        "\n",
        "print(json.dumps(json_data2) )\n",
        "\n"
      ],
      "metadata": {
        "colab": {
          "base_uri": "https://localhost:8080/"
        },
        "id": "4lp5fFIzyr6f",
        "outputId": "4ae29d55-249d-4757-8286-785cd5740dfc"
      },
      "execution_count": null,
      "outputs": [
        {
          "output_type": "stream",
          "name": "stderr",
          "text": [
            "IOPub data rate exceeded.\n",
            "The notebook server will temporarily stop sending output\n",
            "to the client in order to avoid crashing it.\n",
            "To change this limit, set the config variable\n",
            "`--NotebookApp.iopub_data_rate_limit`.\n",
            "\n",
            "Current values:\n",
            "NotebookApp.iopub_data_rate_limit=1000000.0 (bytes/sec)\n",
            "NotebookApp.rate_limit_window=3.0 (secs)\n",
            "\n"
          ]
        }
      ]
    },
    {
      "cell_type": "code",
      "source": [
        "json_data = copy.deepcopy(json_data2)"
      ],
      "metadata": {
        "id": "diDSk_t58RsH"
      },
      "execution_count": null,
      "outputs": []
    },
    {
      "cell_type": "code",
      "source": [
        "len(json_data['annotations'])"
      ],
      "metadata": {
        "colab": {
          "base_uri": "https://localhost:8080/"
        },
        "id": "LkCJGXSHy9BD",
        "outputId": "e599b3e7-ce73-4606-b89c-b720a53c81a4"
      },
      "execution_count": null,
      "outputs": [
        {
          "output_type": "execute_result",
          "data": {
            "text/plain": [
              "183546"
            ]
          },
          "metadata": {},
          "execution_count": 127
        }
      ]
    },
    {
      "cell_type": "code",
      "source": [
        "json_data.keys()"
      ],
      "metadata": {
        "colab": {
          "base_uri": "https://localhost:8080/"
        },
        "id": "CQNk9i6EzmEa",
        "outputId": "d7114f54-54c4-4017-94a3-54d5e9d90065"
      },
      "execution_count": null,
      "outputs": [
        {
          "output_type": "execute_result",
          "data": {
            "text/plain": [
              "dict_keys(['images', 'info', 'licenses', 'annotations', 'categories'])"
            ]
          },
          "metadata": {},
          "execution_count": 128
        }
      ]
    },
    {
      "cell_type": "code",
      "source": [
        "len(json_data['images'])"
      ],
      "metadata": {
        "colab": {
          "base_uri": "https://localhost:8080/"
        },
        "id": "b4jN0H_1zuIJ",
        "outputId": "f4c30bad-7f61-4272-a296-b46f3600d70f"
      },
      "execution_count": null,
      "outputs": [
        {
          "output_type": "execute_result",
          "data": {
            "text/plain": [
              "25000"
            ]
          },
          "metadata": {},
          "execution_count": 129
        }
      ]
    },
    {
      "cell_type": "code",
      "source": [
        "json_data['annotations'][10]"
      ],
      "metadata": {
        "colab": {
          "base_uri": "https://localhost:8080/"
        },
        "id": "DLVYbVYbzfBZ",
        "outputId": "d335529a-0b0a-418a-bea4-3d39bfcd3cf3"
      },
      "execution_count": null,
      "outputs": [
        {
          "output_type": "execute_result",
          "data": {
            "text/plain": [
              "{'segmentation': [[43.89,\n",
              "   250.12,\n",
              "   42.55,\n",
              "   239.37,\n",
              "   34.48,\n",
              "   257.74,\n",
              "   39.41,\n",
              "   276.54,\n",
              "   35.38,\n",
              "   276.54,\n",
              "   33.59,\n",
              "   294.46,\n",
              "   33.59,\n",
              "   312.37,\n",
              "   39.41,\n",
              "   313.71,\n",
              "   42.55,\n",
              "   309.24]],\n",
              " 'area': 532.3973499999997,\n",
              " 'iscrowd': 0,\n",
              " 'image_id': 231538,\n",
              " 'bbox': [33.59, 239.37, 10.3, 74.34],\n",
              " 'category_id': 1,\n",
              " 'id': 1712232}"
            ]
          },
          "metadata": {},
          "execution_count": 130
        }
      ]
    },
    {
      "cell_type": "code",
      "source": [],
      "metadata": {
        "id": "jXZXUxYu6NeG"
      },
      "execution_count": null,
      "outputs": []
    },
    {
      "cell_type": "code",
      "source": [
        "cnt = 0\n",
        "for idx, tar in enumerate(json_data2['annotations']):\n",
        "  \n",
        "  if tar['area'] > 32 ** 2:\n",
        "    \n",
        "    del json_data['annotations'][idx - cnt]\n",
        "    cnt += 1"
      ],
      "metadata": {
        "id": "fS_nkxlp0AqN"
      },
      "execution_count": null,
      "outputs": []
    },
    {
      "cell_type": "code",
      "source": [
        "len(json_data['annotations'])"
      ],
      "metadata": {
        "colab": {
          "base_uri": "https://localhost:8080/"
        },
        "id": "x2rHp-XG0oKa",
        "outputId": "9c0a944d-d0e3-4e4a-f59a-cfde256c5f5d"
      },
      "execution_count": null,
      "outputs": [
        {
          "output_type": "execute_result",
          "data": {
            "text/plain": [
              "75629"
            ]
          },
          "metadata": {},
          "execution_count": 132
        }
      ]
    },
    {
      "cell_type": "code",
      "source": [
        "json_data['images'][10]"
      ],
      "metadata": {
        "colab": {
          "base_uri": "https://localhost:8080/"
        },
        "id": "xx8VcFRi010h",
        "outputId": "edb7f73b-3eb3-4555-abb4-1824e8338918"
      },
      "execution_count": null,
      "outputs": [
        {
          "output_type": "execute_result",
          "data": {
            "text/plain": [
              "{'license': 1,\n",
              " 'file_name': '000000010909.jpg',\n",
              " 'coco_url': 'http://images.cocodataset.org/train2017/000000010909.jpg',\n",
              " 'height': 640,\n",
              " 'width': 480,\n",
              " 'date_captured': '2013-11-14 17:54:02',\n",
              " 'flickr_url': 'http://farm1.staticflickr.com/105/313397098_f7c15a66f0_z.jpg',\n",
              " 'id': 10909}"
            ]
          },
          "metadata": {},
          "execution_count": 133
        }
      ]
    },
    {
      "cell_type": "code",
      "source": [
        "img_list = set()\n",
        "\n",
        "for tar in json_data['annotations']:\n",
        "  img_list.add(tar['image_id'])\n",
        "\n",
        "len(img_list)\n"
      ],
      "metadata": {
        "colab": {
          "base_uri": "https://localhost:8080/"
        },
        "id": "a2B5R2uC1R_P",
        "outputId": "25ed38a7-8f98-47e5-b954-59cd7f69e6a2"
      },
      "execution_count": null,
      "outputs": [
        {
          "output_type": "execute_result",
          "data": {
            "text/plain": [
              "13097"
            ]
          },
          "metadata": {},
          "execution_count": 134
        }
      ]
    },
    {
      "cell_type": "code",
      "source": [
        "cnt = 0\n",
        "for idx, tar in enumerate(json_data2['images']):\n",
        "  \n",
        "\n",
        "  if tar['id'] not in img_list:\n",
        "    del json_data['images'][idx-cnt]\n",
        "    cnt += 1\n",
        "\n"
      ],
      "metadata": {
        "id": "ljaZLlWI0ruk"
      },
      "execution_count": null,
      "outputs": []
    },
    {
      "cell_type": "code",
      "source": [
        "len(json_data['images'])"
      ],
      "metadata": {
        "colab": {
          "base_uri": "https://localhost:8080/"
        },
        "id": "lmklc4rb2nzi",
        "outputId": "f54ee1e8-e890-455f-ea0e-8d5eaf547e4c"
      },
      "execution_count": null,
      "outputs": [
        {
          "output_type": "execute_result",
          "data": {
            "text/plain": [
              "13097"
            ]
          },
          "metadata": {},
          "execution_count": 136
        }
      ]
    },
    {
      "cell_type": "code",
      "source": [
        "json_data['images'][0]['id']"
      ],
      "metadata": {
        "colab": {
          "base_uri": "https://localhost:8080/"
        },
        "id": "N3K_1GwV54Yl",
        "outputId": "a299c065-c90c-4391-c727-c8429c52e0d4"
      },
      "execution_count": null,
      "outputs": [
        {
          "output_type": "execute_result",
          "data": {
            "text/plain": [
              "231538"
            ]
          },
          "metadata": {},
          "execution_count": 137
        }
      ]
    },
    {
      "cell_type": "code",
      "source": [
        "with open('test.json', 'w', encoding='utf-8') as make_file:\n",
        "\n",
        "    json.dump(json_data, make_file, indent=\"\\t\")\n",
        "\n"
      ],
      "metadata": {
        "id": "HZlb76bs8yIw"
      },
      "execution_count": null,
      "outputs": []
    }
  ]
}